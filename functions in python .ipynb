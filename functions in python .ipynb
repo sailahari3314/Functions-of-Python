{
 "cells": [
  {
   "cell_type": "code",
   "execution_count": 1,
   "id": "9e8cc7c4",
   "metadata": {},
   "outputs": [],
   "source": [
    "              #FUNCTION\n",
    "#funtion is a set of code which performs the specific data\n",
    "\n",
    "#syntax of function:\n",
    "#   def funtion_name:\n",
    "#       statement(s)"
   ]
  },
  {
   "cell_type": "code",
   "execution_count": 2,
   "id": "fef8a9eb",
   "metadata": {},
   "outputs": [
    {
     "name": "stdout",
     "output_type": "stream",
     "text": [
      "Hello World\n"
     ]
    }
   ],
   "source": [
    "#simple function\n",
    "def Hello():            #defining the funtion  && without parameters\n",
    "    print('Hello World')\n",
    "    \n",
    "Hello()                   #calling the funtion"
   ]
  },
  {
   "cell_type": "code",
   "execution_count": 3,
   "id": "9cea356b",
   "metadata": {},
   "outputs": [
    {
     "name": "stdout",
     "output_type": "stream",
     "text": [
      "6\n",
      "a=10  b=20\n",
      "30\n"
     ]
    }
   ],
   "source": [
    "#adding the values\n",
    "\n",
    "#method 1: without parameters\n",
    "def add():\n",
    "    a=2\n",
    "    b=4\n",
    "    print(a+b)\n",
    "add()\n",
    "\n",
    "#method 2: with parameters\n",
    "def add(a,b):\n",
    "    print('a=%d  b=%d'%(a,b))\n",
    "    print(a+b)\n",
    "add(10,20)\n",
    "    "
   ]
  },
  {
   "cell_type": "code",
   "execution_count": 7,
   "id": "6fe9e9f8",
   "metadata": {},
   "outputs": [
    {
     "name": "stdout",
     "output_type": "stream",
     "text": [
      "150\n"
     ]
    }
   ],
   "source": [
    "def add(*a):\n",
    "    total=0\n",
    "    for i in a:\n",
    "        total=total+i\n",
    "    print(total)\n",
    "    \n",
    "add(10,20,30,40,50)"
   ]
  },
  {
   "cell_type": "code",
   "execution_count": 11,
   "id": "0b467069",
   "metadata": {},
   "outputs": [
    {
     "name": "stdout",
     "output_type": "stream",
     "text": [
      "140727353664296 140727353664328\n"
     ]
    }
   ],
   "source": [
    "x=1\n",
    "y=2\n",
    "print(id(x), id(y))"
   ]
  },
  {
   "cell_type": "code",
   "execution_count": 6,
   "id": "72064b44",
   "metadata": {},
   "outputs": [
    {
     "name": "stdout",
     "output_type": "stream",
     "text": [
      "[1, 2, 3, 4, 5]\n",
      "[900, 2, 3, 4, 5]\n"
     ]
    }
   ],
   "source": [
    "#mutable of data (changing)\n",
    "def add(lst):\n",
    "    lst[0]=900\n",
    "    \n",
    "lst=[1,2,3,4,5]             #data mutable in lists\n",
    "print(lst)\n",
    "add(lst)\n",
    "print(lst)"
   ]
  },
  {
   "cell_type": "code",
   "execution_count": 7,
   "id": "122b6be3",
   "metadata": {},
   "outputs": [
    {
     "data": {
      "text/plain": [
       "35"
      ]
     },
     "execution_count": 7,
     "metadata": {},
     "output_type": "execute_result"
    }
   ],
   "source": [
    "#return value\n",
    "def add(a,b):\n",
    "    return a+b\n",
    "add(10,25)\n"
   ]
  },
  {
   "cell_type": "code",
   "execution_count": 5,
   "id": "d17b6bfd",
   "metadata": {},
   "outputs": [
    {
     "name": "stdout",
     "output_type": "stream",
     "text": [
      "23\n"
     ]
    }
   ],
   "source": [
    "print(23)"
   ]
  }
 ],
 "metadata": {
  "kernelspec": {
   "display_name": "Python 3",
   "language": "python",
   "name": "python3"
  },
  "language_info": {
   "codemirror_mode": {
    "name": "ipython",
    "version": 3
   },
   "file_extension": ".py",
   "mimetype": "text/x-python",
   "name": "python",
   "nbconvert_exporter": "python",
   "pygments_lexer": "ipython3",
   "version": "3.11.1"
  },
  "vscode": {
   "interpreter": {
    "hash": "be92f08570e6109ac4b0415a467f860f6394b7d8e4392e145466aabdafffec62"
   }
  }
 },
 "nbformat": 4,
 "nbformat_minor": 5
}
